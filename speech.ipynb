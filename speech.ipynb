{
 "cells": [
  {
   "cell_type": "code",
   "execution_count": 1,
   "metadata": {},
   "outputs": [],
   "source": [
    "class node:\n",
    "    def __init__(self,data):\n",
    "        self.data=data\n",
    "        self.left=None\n",
    "        self.right=None"
   ]
  },
  {
   "cell_type": "code",
   "execution_count": 10,
   "metadata": {},
   "outputs": [],
   "source": [
    "def find_max(root):\n",
    "   \n",
    "    #Base Case\n",
    "    if root == None:\n",
    "        return -99\n",
    "    \n",
    "    res=root.data\n",
    "    lres=find_max(root.left)\n",
    "    rres=find_max(root.right)\n",
    "    if(lres<res and lres!= -99):\n",
    "        res=lres\n",
    "    if(rres<res and lres!= -99):\n",
    "        res=rres\n",
    "    return res"
   ]
  },
  {
   "cell_type": "code",
   "execution_count": 25,
   "metadata": {},
   "outputs": [],
   "source": [
    "def Inorder(root):\n",
    "    if root:\n",
    "        Inorder(root.left)\n",
    "        print(root.data)\n",
    "        Inorder(root.right)\n"
   ]
  },
  {
   "cell_type": "code",
   "execution_count": 12,
   "metadata": {},
   "outputs": [
    {
     "name": "stdout",
     "output_type": "stream",
     "text": [
      "3\n"
     ]
    }
   ],
   "source": [
    "#Driver 1\n",
    "if __name__ == '__main__':\n",
    "    root=node(9)\n",
    "    root.left=node(4)\n",
    "    root.right=node(8)\n",
    "    root.left.left=node(3)\n",
    "    root.left.right=node(5)\n",
    "    \n",
    "    print(find_max(root))"
   ]
  },
  {
   "cell_type": "code",
   "execution_count": 26,
   "metadata": {},
   "outputs": [
    {
     "name": "stdout",
     "output_type": "stream",
     "text": [
      "3\n",
      "4\n",
      "5\n",
      "9\n",
      "8\n"
     ]
    }
   ],
   "source": [
    "#Driver 2\n",
    "if __name__ == '__main__':\n",
    "    root=node(9)\n",
    "    root.left=node(4)\n",
    "    root.right=node(8)\n",
    "    root.left.left=node(3)\n",
    "    root.left.right=node(5)\n",
    "    Inorder(root)\n",
    "    "
   ]
  },
  {
   "cell_type": "code",
   "execution_count": null,
   "metadata": {},
   "outputs": [],
   "source": []
  },
  {
   "cell_type": "code",
   "execution_count": 1,
   "metadata": {},
   "outputs": [
    {
     "name": "stderr",
     "output_type": "stream",
     "text": [
      "C:\\Anaconda3\\lib\\site-packages\\pydub\\utils.py:165: RuntimeWarning: Couldn't find ffmpeg or avconv - defaulting to ffmpeg, but may not work\n",
      "  warn(\"Couldn't find ffmpeg or avconv - defaulting to ffmpeg, but may not work\", RuntimeWarning)\n"
     ]
    }
   ],
   "source": [
    "import speech_recognition as sr \n",
    "  \n",
    "import os \n",
    "  \n",
    "from pydub import AudioSegment \n",
    "from pydub.silence import split_on_silence"
   ]
  },
  {
   "cell_type": "code",
   "execution_count": 17,
   "metadata": {},
   "outputs": [
    {
     "name": "stdout",
     "output_type": "stream",
     "text": [
      "Enter the audio file path\n",
      "C:\\Users\\Vishal\\Desktop\\Codes\\ds\\barclays.wav\n",
      "input_path C:\\Users\\Vishal\\Desktop\\Codes\\ds\\barclays.wav\n",
      "C:\\Users\\Vishal\\Desktop\\Codes\\ds\\barclays.wav\n",
      "saving chunk0.wav\n",
      "Processing chunk 0\n",
      "saving chunk1.wav\n",
      "Processing chunk 1\n",
      "Could not understand audio\n",
      "saving chunk2.wav\n",
      "Processing chunk 2\n",
      "Could not understand audio\n",
      "saving chunk3.wav\n",
      "Processing chunk 3\n",
      "saving chunk4.wav\n",
      "Processing chunk 4\n",
      "saving chunk5.wav\n",
      "Processing chunk 5\n",
      "Could not understand audio\n",
      "saving chunk6.wav\n",
      "Processing chunk 6\n",
      "Could not understand audio\n",
      "saving chunk7.wav\n",
      "Processing chunk 7\n",
      "Could not understand audio\n",
      "saving chunk8.wav\n",
      "Processing chunk 8\n",
      "Could not understand audio\n",
      "saving chunk9.wav\n",
      "Processing chunk 9\n",
      "Could not understand audio\n",
      "saving chunk10.wav\n",
      "Processing chunk 10\n",
      "Could not understand audio\n",
      "saving chunk11.wav\n",
      "Processing chunk 11\n",
      "Could not understand audio\n",
      "saving chunk12.wav\n",
      "Processing chunk 12\n",
      "saving chunk13.wav\n",
      "Processing chunk 13\n",
      "saving chunk14.wav\n",
      "Processing chunk 14\n"
     ]
    }
   ],
   "source": [
    "def silence_based_conversion(path): \n",
    "  \n",
    "    # open the audio file stored in \n",
    "    # the local system as a wav file.\n",
    "    print(path)\n",
    "    song = AudioSegment.from_wav(path) \n",
    "  \n",
    "    # open a file where we will concatenate   \n",
    "    # and store the recognized text \n",
    "    fh = open(\"recognized.txt\", \"w+\") \n",
    "          \n",
    "    # split track where silence is 0.5 seconds  \n",
    "    # or more and get chunks \n",
    "    chunks = split_on_silence(song, \n",
    "        # must be silent for at least 0.5 seconds \n",
    "        # or 500 ms. adjust this value based on user \n",
    "        # requirement. if the speaker stays silent for  \n",
    "        # longer, increase this value. else, decrease it. \n",
    "        min_silence_len = 500, \n",
    "  \n",
    "        # consider it silent if quieter than -16 dBFS \n",
    "        # adjust this per requirement \n",
    "        silence_thresh = -16\n",
    "    ) \n",
    "  \n",
    "    # create a directory to store the audio chunks. \n",
    "    try: \n",
    "        os.mkdir('audio_chunks') \n",
    "    except(FileExistsError): \n",
    "        pass\n",
    "  \n",
    "    # move into the directory to \n",
    "    # store the audio files. \n",
    "    os.chdir('audio_chunks') \n",
    "  \n",
    "    i = 0\n",
    "    # process each chunk \n",
    "    for chunk in chunks: \n",
    "              \n",
    "        # Create 0.5 seconds silence chunk \n",
    "        chunk_silent = AudioSegment.silent(duration = 10) \n",
    "  \n",
    "        # add 0.5 sec silence to beginning and  \n",
    "        # end of audio chunk. This is done so that \n",
    "        # it doesn't seem abruptly sliced. \n",
    "        audio_chunk = chunk_silent + chunk + chunk_silent \n",
    "  \n",
    "        # export audio chunk and save it in  \n",
    "        # the current directory. \n",
    "        print(\"saving chunk{0}.wav\".format(i)) \n",
    "        # specify the bitrate to be 192 k \n",
    "        audio_chunk.export(\"./chunk{0}.wav\".format(i), bitrate ='192k', format =\"wav\") \n",
    "  \n",
    "        # the name of the newly created chunk \n",
    "        filename = 'chunk'+str(i)+'.wav'\n",
    "  \n",
    "        print(\"Processing chunk \"+str(i)) \n",
    "  \n",
    "        # get the name of the newly created chunk \n",
    "        # in the AUDIO_FILE variable for later use. \n",
    "        file = filename \n",
    "  \n",
    "        # create a speech recognition object \n",
    "        r = sr.Recognizer() \n",
    "  \n",
    "        # recognize the chunk \n",
    "        with sr.AudioFile(file) as source: \n",
    "            # remove this if it is not working \n",
    "            # correctly. \n",
    "            r.adjust_for_ambient_noise(source) \n",
    "            audio_listened = r.listen(source) \n",
    "  \n",
    "        try: \n",
    "            # try converting it to text \n",
    "            rec = r.recognize_google(audio_listened) \n",
    "            # write the output to the file. \n",
    "            fh.write(rec+\". \") \n",
    "  \n",
    "        # catch any errors. \n",
    "        except sr.UnknownValueError: \n",
    "            print(\"Could not understand audio\") \n",
    "  \n",
    "        except sr.RequestError as e: \n",
    "            print(\"Could not request results. check your internet connection\") \n",
    "  \n",
    "        i += 1\n",
    "  \n",
    "    os.chdir('..') \n",
    "  \n",
    "  \n",
    "if __name__ == '__main__': \n",
    "          \n",
    "    print('Enter the audio file path') \n",
    "  \n",
    "    path = input() \n",
    "    print(\"input_path\",path)\n",
    "    silence_based_conversion(path) \n",
    "    \n",
    "    #C:\\Users\\Vishal\\Desktop\\Codes\\ds\n",
    "    #C:\\\\Users\\\\Vishal\\\\Desktop\\\\Codes\\\\ds\\\\Animals.mp3"
   ]
  },
  {
   "cell_type": "code",
   "execution_count": 12,
   "metadata": {},
   "outputs": [],
   "source": [
    "with open (\"Animals.mp3\", 'rb') as f:\n",
    "    file = f.read()"
   ]
  },
  {
   "cell_type": "code",
   "execution_count": 13,
   "metadata": {},
   "outputs": [
    {
     "name": "stderr",
     "output_type": "stream",
     "text": [
      "IOPub data rate exceeded.\n",
      "The notebook server will temporarily stop sending output\n",
      "to the client in order to avoid crashing it.\n",
      "To change this limit, set the config variable\n",
      "`--NotebookApp.iopub_data_rate_limit`.\n",
      "\n",
      "Current values:\n",
      "NotebookApp.iopub_data_rate_limit=1000000.0 (bytes/sec)\n",
      "NotebookApp.rate_limit_window=3.0 (secs)\n",
      "\n"
     ]
    }
   ],
   "source": [
    "print(file)"
   ]
  },
  {
   "cell_type": "code",
   "execution_count": 7,
   "metadata": {},
   "outputs": [
    {
     "name": "stdout",
     "output_type": "stream",
     "text": [
      "C:\\Users\\Vishal\\Desktop\\Codes\\ds\n",
      "['.ipynb_checkpoints', 'Animals.mp3', 'Untitled.ipynb']\n"
     ]
    }
   ],
   "source": [
    "import os\n",
    "print(os.getcwd())\n",
    "print(os.listdir())"
   ]
  },
  {
   "cell_type": "code",
   "execution_count": 18,
   "metadata": {},
   "outputs": [],
   "source": []
  },
  {
   "cell_type": "code",
   "execution_count": 25,
   "metadata": {},
   "outputs": [],
   "source": [
    "import gmplot \n",
    "  \n",
    "gmap1 = gmplot.GoogleMapPlotter(30.3164945, \n",
    "                                78.03219179999999, 13 ) \n",
    "  \n",
    "# Pass the absolute path \n",
    "gmap1.draw(r'C:\\Users\\Vishal\\Desktop\\Codes\\ds\\map11.html')"
   ]
  },
  {
   "cell_type": "code",
   "execution_count": 26,
   "metadata": {},
   "outputs": [
    {
     "data": {
      "text/plain": [
       "['.ipynb_checkpoints',\n",
       " 'Animals.mp3',\n",
       " 'audio_chunks',\n",
       " 'barclays.mpeg',\n",
       " 'barclays.wav',\n",
       " 'demo.wav',\n",
       " 'map11.html',\n",
       " 'recognized.txt',\n",
       " 'Untitled.ipynb']"
      ]
     },
     "execution_count": 26,
     "metadata": {},
     "output_type": "execute_result"
    }
   ],
   "source": [
    "os.listdir()"
   ]
  },
  {
   "cell_type": "code",
   "execution_count": null,
   "metadata": {},
   "outputs": [],
   "source": []
  }
 ],
 "metadata": {
  "kernelspec": {
   "display_name": "Python 3",
   "language": "python",
   "name": "python3"
  },
  "language_info": {
   "codemirror_mode": {
    "name": "ipython",
    "version": 3
   },
   "file_extension": ".py",
   "mimetype": "text/x-python",
   "name": "python",
   "nbconvert_exporter": "python",
   "pygments_lexer": "ipython3",
   "version": "3.7.3"
  }
 },
 "nbformat": 4,
 "nbformat_minor": 2
}
